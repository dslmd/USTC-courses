{
 "cells": [
  {
   "cell_type": "code",
   "execution_count": 5,
   "metadata": {},
   "outputs": [
    {
     "name": "stdout",
     "output_type": "stream",
     "text": [
      "Test the number of iteration\n",
      "Test the number of iteration\n",
      "Test the number of iteration\n",
      "Test the number of iteration\n",
      "Test the number of iteration\n",
      "Test the number of iteration\n",
      "Test the number of iteration\n",
      "Test the number of iteration\n",
      "Test the number of iteration\n",
      "k= 0.6134953462154726 \n",
      " b= 1.7940925542913093\n"
     ]
    },
    {
     "data": {
      "image/png": "[encoded data removed]",
      "text/plain": [
       "<Figure size 720x72 with 1 Axes>"
      ]
     },
     "metadata": {
      "needs_background": "light"
     },
     "output_type": "display_data"
    }
   ],
   "source": [
    "import numpy as np\n",
    "from scipy.optimize import leastsq\n",
    "import pylab as pl\n",
    " \n",
    "Yi=np.array([7.01,2.78,6.47,6.71,4.1,4.23,4.05])\n",
    "xi=np.array([8.19,2.72,6.39,8.71,4.7,2.66,3.78])\n",
    " \n",
    "def func(p,x):\n",
    "    k,b=p\n",
    "    return k*x+b\n",
    " \n",
    "def error(p,x,y,s):\n",
    "    print(s)\n",
    "    return func(p,x)-y\n",
    " \n",
    " #TEST\n",
    "p0=[100,2]\n",
    "#print( error(p0,xi,Yi) )\n",
    "s=\"Test the number of iteration\" #试验最小二乘法函数leastsq得调用几次error函数才能找到使得均方误差之和最小的k、b\n",
    "Para=leastsq(error,p0,args=(xi,Yi,s)) #把error函数中除了p以外的参数打包到args中\n",
    "k,b=Para[0]\n",
    "print(\"k=\",k,'\\n',\"b=\",b)\n",
    " \n",
    "###绘图，看拟合效果###\n",
    "import matplotlib.pyplot as plt\n",
    " \n",
    "plt.figure(figsize=(10,1))\n",
    "plt.scatter(xi,Yi,color=\"red\",label=\"Sample Point\",linewidth=3) #画样本点\n",
    "x=np.linspace(0,10,1000)\n",
    "y=k*x+b\n",
    "plt.plot(x,y,color=\"orange\",label=\"Fitting Line\",linewidth=2) #画拟合直线\n",
    "plt.legend\n",
    "plt.show()"
   ]
  },
  {
   "cell_type": "code",
   "execution_count": null,
   "metadata": {},
   "outputs": [],
   "source": []
  }
 ],
 "metadata": {
  "kernelspec": {
   "display_name": "Python 3",
   "language": "python",
   "name": "python3"
  },
  "language_info": {
   "codemirror_mode": {
    "name": "ipython",
    "version": 3
   },
   "file_extension": ".py",
   "mimetype": "text/x-python",
   "name": "python",
   "nbconvert_exporter": "python",
   "pygments_lexer": "ipython3",
   "version": "3.7.6"
  }
 },
 "nbformat": 4,
 "nbformat_minor": 4
}
